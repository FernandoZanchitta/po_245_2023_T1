{
 "cells": [
  {
   "cell_type": "code",
   "execution_count": null,
   "metadata": {
    "ExecuteTime": {
     "end_time": "2023-04-22T18:51:52.113078Z",
     "start_time": "2023-04-22T18:51:52.069476Z"
    },
    "collapsed": false
   },
   "outputs": [],
   "source": [
    "from fico import calculations"
   ]
  },
  {
   "cell_type": "code",
   "execution_count": null,
   "metadata": {
    "ExecuteTime": {
     "end_time": "2023-04-22T18:51:58.615562Z",
     "start_time": "2023-04-22T18:51:58.582679Z"
    }
   },
   "outputs": [],
   "source": [
    "help(calculations)"
   ]
  },
  {
   "cell_type": "code",
   "execution_count": null,
   "metadata": {
    "ExecuteTime": {
     "end_time": "2023-04-22T18:54:15.198847Z",
     "start_time": "2023-04-22T18:54:15.150783Z"
    }
   },
   "outputs": [],
   "source": [
    "calculations.add(3, 4)"
   ]
  },
  {
   "cell_type": "code",
   "execution_count": null,
   "metadata": {},
   "outputs": [],
   "source": []
  }
 ],
 "metadata": {
  "kernelspec": {
   "display_name": "fico-hPM1Un3y-py3.11",
   "language": "python",
   "name": "python3"
  },
  "language_info": {
   "codemirror_mode": {
    "name": "ipython",
    "version": 3
   },
   "file_extension": ".py",
   "mimetype": "text/x-python",
   "name": "python",
   "nbconvert_exporter": "python",
   "pygments_lexer": "ipython3",
   "version": "3.11.2"
  },
  "orig_nbformat": 4
 },
 "nbformat": 4,
 "nbformat_minor": 2
}
